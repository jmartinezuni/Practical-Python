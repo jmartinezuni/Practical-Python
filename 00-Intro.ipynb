{
 "cells": [
  {
   "cell_type": "markdown",
   "metadata": {},
   "source": [
    "# Capacitación Python - Spark ARM\n"
   ]
  },
  {
   "cell_type": "markdown",
   "metadata": {},
   "source": [
    "<img src=\"images/python-logo.png\"\n",
    "     align=\"center\"\n",
    "     width=\"60%\"\n",
    "     alt=\"Python logo\\\">"
   ]
  },
  {
   "cell_type": "markdown",
   "metadata": {},
   "source": [
    "## What's Python?"
   ]
  },
  {
   "cell_type": "markdown",
   "metadata": {},
   "source": [
    "Python is a general purpose programming language conceived in 1989 by Guido van Rossum\n",
    "\n",
    "Python is free and open source, with development coordinated through the Python Software Foundation\n",
    "\n",
    "Python has experienced rapid adoption in the last decade, and is now one of the most popular programming languages"
   ]
  },
  {
   "cell_type": "markdown",
   "metadata": {},
   "source": [
    "## Common Uses"
   ]
  },
  {
   "cell_type": "markdown",
   "metadata": {},
   "source": [
    "Python is a general purpose language used in almost all application domains\n",
    "- scientific computing\n",
    "- communications\n",
    "- web development\n",
    "- graphical user interfaces\n",
    "- games\n",
    "\n",
    "Often used to teach computer science and programming"
   ]
  },
  {
   "cell_type": "markdown",
   "metadata": {},
   "source": [
    "## Relative Popularity\n",
    "\n",
    "The following chart, produced using Stack Overflow Trends, shows one measure of the relative popularity of Python"
   ]
  },
  {
   "cell_type": "markdown",
   "metadata": {},
   "source": [
    "<img src=\"images/lang_trends.png\"\n",
    "     align=\"center\"\n",
    "     width=\"60%\"\n",
    "     alt=\"Python logo\\\">"
   ]
  },
  {
   "cell_type": "markdown",
   "metadata": {},
   "source": [
    "## Features\n",
    "\n",
    "Python is a high level language suitable for rapid development\n",
    "It has a relatively small core language supported by many libraries\n",
    "Other features:\n",
    "\n",
    "- A multiparadigm language, in that multiple programming styles are supported (procedural, object-oriented, functional, etc.)\n",
    "- Interpreted rather than compiled"
   ]
  },
  {
   "cell_type": "markdown",
   "metadata": {},
   "source": [
    "## Scientific Programming\n",
    "\n",
    "Python has become one of the core languages of scientific computing\n",
    "\n",
    "<img src=\"images/scipy-eco.png\"\n",
    "     align=\"center\"\n",
    "     width=\"60%\"\n",
    "     alt=\"Python logo\\\">"
   ]
  },
  {
   "cell_type": "markdown",
   "metadata": {},
   "source": [
    "## Overview\n",
    "1. [Basic Concepts](01-basic_concepts.ipynb)\n",
    "   - [List and Strings](01_1-List_and_strings.ipynb)\n",
    "   - [Date and times](01_2-Date_and_times.ipynb)\n",
    "   - [Functions](01_3-Functions.ipynb)\n",
    "2. [Numpy](02-numpy.ipynb)\n",
    "   - [SafeBox](01_4-Safebox.ipynb)\n",
    "3. [Pandas](03-pandas.ipynb)\n",
    "4. [Spark](04-spark.ipynb)"
   ]
  }
 ],
 "metadata": {
  "kernelspec": {
   "display_name": "Python 3",
   "language": "python",
   "name": "python3"
  },
  "language_info": {
   "codemirror_mode": {
    "name": "ipython",
    "version": 3
   },
   "file_extension": ".py",
   "mimetype": "text/x-python",
   "name": "python",
   "nbconvert_exporter": "python",
   "pygments_lexer": "ipython3",
   "version": "3.7.1"
  }
 },
 "nbformat": 4,
 "nbformat_minor": 2
}
